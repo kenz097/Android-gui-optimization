{
  "cells": [
    {
      "cell_type": "markdown",
      "metadata": {
        "id": "npS0ZOv97yyd"
      },
      "source": [
        "# **Import drive**"
      ]
    },
    {
      "cell_type": "code",
      "execution_count": null,
      "metadata": {
        "colab": {
          "base_uri": "https://localhost:8080/"
        },
        "id": "q9aU-NqrwJXt",
        "outputId": "2b1771ec-c3fe-49ad-847e-72daeee6dd0d"
      },
      "outputs": [
        {
          "output_type": "stream",
          "name": "stdout",
          "text": [
            "Mounted at /content/gdrive\n"
          ]
        }
      ],
      "source": [
        "from google.colab import drive\n",
        "drive.mount('/content/gdrive')"
      ]
    },
    {
      "cell_type": "markdown",
      "metadata": {
        "id": "zRydfD-17zgV"
      },
      "source": [
        "# **Librerie**"
      ]
    },
    {
      "cell_type": "code",
      "execution_count": null,
      "metadata": {
        "id": "PyX41sS87xt0"
      },
      "outputs": [],
      "source": [
        "import glob\n",
        "import xml.etree.ElementTree as ET\n",
        "from collections import defaultdict\n",
        "import re\n",
        "import PIL\n",
        "import os\n",
        "import numpy as np\n",
        "import matplotlib.pyplot as plt\n",
        "import pandas as pd\n",
        "from collections import Counter\n",
        "import itertools\n",
        "import math \n",
        "import pickle"
      ]
    },
    {
      "cell_type": "markdown",
      "metadata": {
        "id": "DLG8SWSGhWNY"
      },
      "source": [
        "# **Returns a list containing all GUI names**"
      ]
    },
    {
      "cell_type": "code",
      "execution_count": null,
      "metadata": {
        "id": "MJ66M2OQX7n3"
      },
      "outputs": [],
      "source": [
        "#function to take all GUI's\n",
        "def getGUIS(path):\n",
        "  data = []\n",
        "  for filename in sorted(os.listdir(path)):\n",
        "      if filename.endswith(\"uix\"): \n",
        "        #delete last 4 characters for the file type\n",
        "          Remove_last = filename[:len(filename)-4]\n",
        "          data.append(path+\"/\"+Remove_last)\n",
        "  return data"
      ]
    },
    {
      "cell_type": "markdown",
      "metadata": {
        "id": "pZYiI6h872NA"
      },
      "source": [
        "# **Returns a list containing all the components of a snapshot**"
      ]
    },
    {
      "cell_type": "code",
      "execution_count": null,
      "metadata": {
        "id": "McIimFVl8E8p"
      },
      "outputs": [],
      "source": [
        "def getComponentsFromSnapshot(root):\n",
        "  data=[]\n",
        "  for comp in root.iter():\n",
        "    data.append(comp)\n",
        "  return data"
      ]
    },
    {
      "cell_type": "markdown",
      "metadata": {
        "id": "6LjkH2kUgpJG"
      },
      "source": [
        "# **Returns the rgb value of the image's pixels**"
      ]
    },
    {
      "cell_type": "code",
      "execution_count": null,
      "metadata": {
        "id": "ZQ1s1LDJKfVb"
      },
      "outputs": [],
      "source": [
        "#funzion to take the rgb value of the image's pixels\n",
        "def getColor(S,x,y):\n",
        "  return S.getpixel((x,y))"
      ]
    },
    {
      "cell_type": "markdown",
      "metadata": {
        "id": "oh0J2HpghJwU"
      },
      "source": [
        "# **Return a dataframe of pixel components**"
      ]
    },
    {
      "cell_type": "code",
      "execution_count": null,
      "metadata": {
        "id": "jQbUR27atA-M"
      },
      "outputs": [],
      "source": [
        "#poichè i pixel devono essere unici, aggiungo ogni volta nell'hashmap i pixel e se è già presente non faccio nulla, altrimenti aggiungo a bocp,bocc\n",
        "def checkPixel(pixel_x,pixel_y, pixel_int):\n",
        "  pixel=(pixel_x,pixel_y)\n",
        "  if pixel_int.get(pixel) is None:\n",
        "    pixel_int.setdefault(pixel,[])\n",
        "    return True\n",
        "  return False"
      ]
    },
    {
      "cell_type": "code",
      "execution_count": null,
      "metadata": {
        "id": "MzprSSlFaV4E"
      },
      "outputs": [],
      "source": [
        "#takes as input a screenshot, the component, the type to each pixel assign a priority based on the hierarchy of the GUI, the color and the component itself\n",
        "def getPixels(S,c, tipo, pixel_int):\n",
        "  #takes ranges based on type and split it\n",
        "  values=re.findall(r'\\d+',c[16][1])\n",
        "  component=c[3][1]\n",
        "  if tipo==1:\n",
        "    values=re.findall(r'\\d+',c[17][1])\n",
        "    component=c[4][1]\n",
        "  asse_x_inizio=int(values[0])\n",
        "  asse_y_inizio=int(values[1])\n",
        "  asse_x_fine=int(values[2])\n",
        "  asse_y_fine=int(values[3])\n",
        "\n",
        "  result=[]\n",
        "  list_color=[]\n",
        "  list_x=[]\n",
        "  list_y=[]\n",
        "  list_component=[]\n",
        "  #iterate x axis\n",
        "  for x in range(asse_x_inizio,asse_x_fine):\n",
        "    list_x.append(x)\n",
        "  #iterate y axis\n",
        "  for y in range(asse_y_inizio,asse_y_fine):\n",
        "    list_y.append(y) \n",
        "  #makes the Cartesian product, takes all the colors according to the axes and assigns the component to the pixels\n",
        "  for element in itertools.product(list_x,list_y):\n",
        "    if checkPixel(element[0],element[1], pixel_int):\n",
        "      result.append(element)\n",
        "      list_color.append(getColor(S,element[0],element[1]))\n",
        "      list_component.append(component) \n",
        "  #dataframe creation\n",
        "  pixel_c=pd.DataFrame(data=result)\n",
        "  if list_color:\n",
        "    pixel_c.columns = ['Axis-X', 'Axis-Y']\n",
        "    pixel_c['R-G-B'] = list_color\n",
        "    pixel_c[\"Components\"] = component\n",
        "  return pixel_c"
      ]
    },
    {
      "cell_type": "markdown",
      "metadata": {
        "id": "CxtxofQq8vmz"
      },
      "source": [
        "# **Return Histogram of RGB values sorted by frequency**"
      ]
    },
    {
      "cell_type": "code",
      "execution_count": null,
      "metadata": {
        "id": "_HIFBv0Pc77o"
      },
      "outputs": [],
      "source": [
        "#instead of using a histogram I preferred to use the Counter class to count the frequency of each color,\n",
        "#sort the frequencies in descending order and return them in output\n",
        "def getPixelHistogramSorted(pixel_c):\n",
        "  if pixel_c:\n",
        "    #count number of occurrence of value rgb\n",
        "    count_element=Counter(pixel_c)\n",
        "    #convert to dataframe, reset index and give new name columns\n",
        "    df = pd.DataFrame.from_dict(count_element,orient='index').reset_index()\n",
        "    df.columns =['R-G-B','N_occurrence']\n",
        "    #sort df and return\n",
        "    sorted_df=df.sort_values(by=['N_occurrence'], ascending=False)\n",
        "    color_frequence=sorted_df['R-G-B'].values.tolist()\n",
        "    return color_frequence"
      ]
    },
    {
      "cell_type": "markdown",
      "metadata": {
        "id": "3mF0qDOKg5_s"
      },
      "source": [
        "# **Return the color of Luminance**"
      ]
    },
    {
      "cell_type": "code",
      "execution_count": null,
      "metadata": {
        "id": "OM-M9-ZP_5Zv"
      },
      "outputs": [],
      "source": [
        "#function of  T(level) of R-G-B\n",
        "def TLevel(level):\n",
        "  if level/255<=0.03928:\n",
        "    return level/12.92\n",
        "  else:\n",
        "    value=(level+0.055)/(1.055)\n",
        "    return (pow(value,2.4))\n",
        "#funcion (a), relative luminance, that is based on the RGB color levels of a given color, with a level value in [1, 255] \n",
        "def getLuminanceByRGB(color):\n",
        "  return 0.216*TLevel(color[0])+0.7152*TLevel(color[1])+0.0722*TLevel(color[2])\n",
        "#funcion of the luminance-based contrast ratio Lum(a,b) that better accounts for differences between text and background color\n",
        "def Lum(color,medoids):\n",
        "  L_a=getLuminanceByRGB(color)\n",
        "  L_b=getLuminanceByRGB(medoids)\n",
        "  if L_a>L_b: return (L_a+0.05)/(L_b+0.05)\n",
        "  else: return (L_b+0.05)/(L_a+0.05)"
      ]
    },
    {
      "cell_type": "markdown",
      "metadata": {
        "id": "6ds84IAgwG9H"
      },
      "source": [
        "# **Return the metoids, a list of the most frequent color in a cluster**"
      ]
    },
    {
      "cell_type": "code",
      "execution_count": null,
      "metadata": {
        "id": "NRKXgLQ8716f"
      },
      "outputs": [],
      "source": [
        "#a medoid (as used in this article) is the most-frequent color in a cluster\n",
        "def getMedoids(hist,k,r):\n",
        "  medoids=[]\n",
        "  if hist:\n",
        "    medoids.append(hist[0])\n",
        "    index=1\n",
        "    medoidIndex=0\n",
        "    while len(medoids)<k and index<len(hist):\n",
        "      color=hist[index]\n",
        "      if Lum(color,medoids[medoidIndex])>r:\n",
        "        medoidIndex+=1\n",
        "        medoids.append(color)\n",
        "      index+=1\n",
        "    return medoids"
      ]
    },
    {
      "cell_type": "markdown",
      "metadata": {
        "id": "BKtnDpTtKV0W"
      },
      "source": [
        "# **Return the value of medoid[i] closest between the color of pixel x,y and the list of medoids, uses the Euclidean distance to calculate the proximity**"
      ]
    },
    {
      "cell_type": "code",
      "execution_count": null,
      "metadata": {
        "id": "RK87J2dlGdKD"
      },
      "outputs": [],
      "source": [
        "#Euclidean Distance of rgb values\n",
        "def EuclideanDistance(color1, color2):\n",
        "    a = np.array((color1[0], color1[1], color1[2]))\n",
        "    b = np.array((color2[0], color2[1], color2[2]))\n",
        "\n",
        "    dist = np.sqrt(np.sum(np.square(a - b)))\n",
        "    return dist"
      ]
    },
    {
      "cell_type": "code",
      "execution_count": null,
      "metadata": {
        "id": "ANdwWoGppqJ1"
      },
      "outputs": [],
      "source": [
        "#use the Euclidean Distance for estimate the distance between 2 colors and get the minimum distance\n",
        "def getClosest(color, medoids):\n",
        "  closest=medoids[0]\n",
        "  min_distance = EuclideanDistance(color,closest)\n",
        "  for med in medoids:\n",
        "    dist = EuclideanDistance(color,med)\n",
        "    if dist < min_distance:\n",
        "      min_distance = dist\n",
        "      closest = med \n",
        "  return closest"
      ]
    },
    {
      "cell_type": "markdown",
      "metadata": {
        "id": "da7xzb0CmtpL"
      },
      "source": [
        "# **Estrazione di BOCP e BOCC da un set mirato di GUI in un'app nativa Android.**"
      ]
    },
    {
      "cell_type": "code",
      "execution_count": null,
      "metadata": {
        "id": "R7vXYjhLD7YB"
      },
      "outputs": [],
      "source": [
        "\"\"\"algorithm BOCP and BOCC. TheBOCP is a hash-map structure for all the pixels in the GUI, in which a key is a quantized color (color ∗) \n",
        "and the corresponding value (for a key) is a list of pixels assigned to that color.\n",
        "The BOCC is a hash-map too, in which the key is a quantized color (color ∗) but the corresponding value is a set\n",
        "of the components associated with the pixels in BOCP[color ∗].\"\"\"\n",
        "def BOCP_BOCC_algorithm(k,r,GUIS):\n",
        "  BOCP={}\n",
        "  BOCC={}\n",
        "  #iterate all guis\n",
        "  for n_gui,GUI in enumerate(GUIS):\n",
        "      Pixel_Interface={}\n",
        "      print(n_gui,GUI)\n",
        "      S=PIL.Image.open(GUI+\".png\")\n",
        "      #convert image in rgb\n",
        "      S = S.convert(\"RGB\")\n",
        "      # Passing the path of the xml document to enable the parsing process\n",
        "      tree = ET.parse(GUI+\".uix\")\n",
        "      # getting the parent tag of the xml document\n",
        "      root = tree.getroot()\n",
        "      C=getComponentsFromSnapshot(root)\n",
        "      # iterate all component in bottom up\n",
        "      for c in reversed(C):\n",
        "        c_item=c.items()\n",
        "        pixel_c=pd.DataFrame()\n",
        "        #check the length of the components and get respective pixels with relative rgb and component name\n",
        "        if len(c_item)==17 and c_item[3][1].find(\"ImageView\") != -1 and c_item[3][1].find(\"ImageButton\") != -1:\n",
        "          pixel_c=getPixels(S,c_item,0,Pixel_Interface)\n",
        "        if len(c_item)==18 and c_item[4][1].find(\"ImageView\") == -1 and c_item[4][1].find(\"ImageButton\") == -1:\n",
        "          pixel_c=getPixels(S,c_item,1,Pixel_Interface)   \n",
        "        if not pixel_c.empty:  \n",
        "          list_color=list(pixel_c[\"R-G-B\"])\n",
        "          histo_c=getPixelHistogramSorted(list_color)\n",
        "          medoids=getMedoids(histo_c,k,r)\n",
        "          i=0\n",
        "          list_x=list(pixel_c[\"Axis-X\"])\n",
        "          list_y=list(pixel_c[\"Axis-Y\"])\n",
        "          for pixel_color in list_color:\n",
        "            color_quant=getClosest(pixel_color,medoids)\n",
        "            #first element is the  number of the interface \n",
        "            pixel_x_y = (n_gui,list_x[i],list_y[i])\n",
        "            c_n=(n_gui,c)\n",
        "            #hashmap of BOCP and BOCC, the keys are the quantized values\n",
        "            BOCP.setdefault(color_quant,[]).append(pixel_x_y)\n",
        "            BOCC.setdefault(color_quant,[]).append(c_n)\n",
        "            i+=1\n",
        "  return BOCP,BOCC"
      ]
    },
    {
      "cell_type": "markdown",
      "metadata": {
        "id": "PQ-H5Uq6D2Eo"
      },
      "source": [
        "# **MAIN**"
      ]
    },
    {
      "cell_type": "code",
      "execution_count": null,
      "metadata": {
        "id": "GqEMKHIj9lyO"
      },
      "outputs": [],
      "source": [
        "dir_list = os.listdir('/content/gdrive/Shareddrives/Tesi di Laurea Magistrale/NuoviSnapshot')\n",
        "#k and r are assigned by the authors of the paper\n",
        "k=3\n",
        "r=1.6\n",
        "#we get all the directories\n",
        "for directory in dir_list:\n",
        "  path=\"/content/gdrive/Shareddrives/Tesi di Laurea Magistrale/NuoviSnapshot/\"+directory\n",
        "  #we get all the guis \n",
        "  GUIS=getGUIS(path)\n",
        "  #algorithm BCOP_BOC\n",
        "  BOCP,BOCC=BOCP_BOCC_algorithm(k,r,GUIS)\n",
        "  created_file=\"/content/gdrive/Shareddrives/Tesi di Laurea Magistrale/NuoviDati/\"+directory+\"_BOCP.pickle\"\n",
        "  with open(created_file,\"wb\") as handle:\n",
        "    pickle.dump(BOCP, handle,protocol=pickle.HIGHEST_PROTOCOL)\n",
        "    created_file=\"/content/gdrive/Shareddrives/Tesi di Laurea Magistrale/NuoviDati/\"+directory+\"_BOCC.pickle\"\n",
        "  with open(created_file,\"wb\") as handle:\n",
        "    pickle.dump(BOCC, handle,protocol=pickle.HIGHEST_PROTOCOL)"
      ]
    }
  ],
  "metadata": {
    "colab": {
      "collapsed_sections": [],
      "provenance": []
    },
    "kernelspec": {
      "display_name": "Python 3",
      "name": "python3"
    },
    "language_info": {
      "name": "python"
    }
  },
  "nbformat": 4,
  "nbformat_minor": 0
}