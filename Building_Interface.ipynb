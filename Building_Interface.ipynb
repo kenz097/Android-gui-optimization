{
  "cells": [
    {
      "cell_type": "code",
      "execution_count": null,
      "metadata": {
        "colab": {
          "base_uri": "https://localhost:8080/"
        },
        "id": "2yxsNHDC0NO0",
        "outputId": "28e21dd8-1330-4f4e-885b-35755b90f071"
      },
      "outputs": [
        {
          "output_type": "stream",
          "name": "stdout",
          "text": [
            "Drive already mounted at /content/gdrive; to attempt to forcibly remount, call drive.mount(\"/content/gdrive\", force_remount=True).\n"
          ]
        }
      ],
      "source": [
        "from google.colab import drive\n",
        "drive.mount('/content/gdrive')"
      ]
    },
    {
      "cell_type": "code",
      "execution_count": null,
      "metadata": {
        "id": "4InY-s6U0xAx"
      },
      "outputs": [],
      "source": [
        "import colorsys\n",
        "import numpy as np\n",
        "import xml.etree.ElementTree as ET\n",
        "from PIL import Image\n",
        "import csv\n",
        "from pathlib import Path\n",
        "import re\n",
        "import pandas as pd\n",
        "import os\n",
        "import pickle"
      ]
    },
    {
      "cell_type": "markdown",
      "metadata": {
        "id": "hijvyKP6Yreu"
      },
      "source": [
        "# **Return list of new solution**"
      ]
    },
    {
      "cell_type": "code",
      "execution_count": null,
      "metadata": {
        "id": "8QCI1bEMRInR"
      },
      "outputs": [],
      "source": [
        "#filter the the lowest consumption and median of all ff\n",
        "def getNewColors(path):\n",
        "    #read csv\n",
        "    df = pd.read_csv(path)\n",
        "    #list of solution\n",
        "    solution=[]\n",
        "    for row in tuple(df.solution):\n",
        "      solution.append(eval(row))\n",
        "    #create list fitness function\n",
        "    ff=[]\n",
        "    for row in tuple(df['fitness function']):\n",
        "      ff.append(eval(row))\n",
        "    #3 ff and split\n",
        "    consum=[]\n",
        "    contr=[]\n",
        "    original=[]\n",
        "    for row in ff:\n",
        "      consum.append(row[0])\n",
        "      contr.append(abs(row[1]))\n",
        "      original.append(row[2])\n",
        "    new_interfaces_index=[]\n",
        "    #min consump\n",
        "    new_interfaces_index.append(solution[np.argmin(consum)])\n",
        "    #median consump\n",
        "    new_interfaces_index.append(solution[np.argsort(consum)[len(consum)//2]])\n",
        "    #median contrast\n",
        "    new_interfaces_index.append(solution[np.argmax(contr)])\n",
        "    #new_interfaces_index.append(solution[np.argsort(contr)[len(contr)//2]])\n",
        "    #median original\n",
        "    #new_interfaces_index.append(solution[np.argsort(original)[len(original)//2]])\n",
        "    new_interfaces_index.append(solution[np.argmin(original)])\n",
        "    return new_interfaces_index"
      ]
    },
    {
      "cell_type": "code",
      "execution_count": null,
      "metadata": {
        "id": "aKBPC4hU0__P"
      },
      "outputs": [],
      "source": [
        "# function to take all dir\n",
        "def getdir(path):\n",
        "    return sorted(os.listdir(path))\n",
        "\n",
        "# function to take all GUI's\n",
        "def getSnapshot(path):\n",
        "    data = []\n",
        "    for filename in sorted(os.listdir(path)):\n",
        "        if filename.endswith(\"uix\"):\n",
        "            tree = ET.parse(path + \"/\" + filename)\n",
        "            # getting the parent tag of the xml document\n",
        "            root = tree.getroot()\n",
        "            data.append(root)\n",
        "    return data\n",
        "    \n",
        "# function to take all GUI's\n",
        "def getScreenshot(path):\n",
        "    data = []\n",
        "    for filename in sorted(os.listdir(path)):\n",
        "        if filename.endswith(\"png\"):\n",
        "            data.append(path + \"/\" + filename)\n",
        "    return data\n",
        "\n",
        "\n",
        "# create a list to get all components and call the getComponents function\n",
        "def getComponentsFromSnapshot(root):\n",
        "    lista = []\n",
        "    for comp in root.iter():\n",
        "        lista.append(comp)\n",
        "    return lista\n",
        "\n",
        "\n",
        "def getPixels(c, tipo):\n",
        "    # takes ranges based on type and split it\n",
        "    values = re.findall(r'\\d+', c[16][1])\n",
        "    component = c[3][1]\n",
        "    if tipo == 1:\n",
        "        values = re.findall(r'\\d+', c[17][1])\n",
        "        component = c[4][1]\n",
        "    asse_x_inizio = int(values[0])\n",
        "    asse_y_inizio = int(values[1])\n",
        "    asse_x_fine = int(values[2])\n",
        "    asse_y_fine = int(values[3])\n",
        "    coordinate = (asse_x_inizio, asse_y_inizio, asse_x_fine, asse_y_fine)\n",
        "    return coordinate\n",
        "\n",
        "\n",
        "def getView(root):\n",
        "    C = getComponentsFromSnapshot(root)\n",
        "    list_view = []\n",
        "    # iterate all component in bottom up\n",
        "    for c in C:\n",
        "        c_item = c.items()\n",
        "        if len(c_item) == 17 and c_item[3][1].find(\"ImageView\") != -1 and c_item[3][1].find(\"ImageButton\") != -1:\n",
        "            list_view.append(getPixels(c_item, 0))\n",
        "        elif len(c_item) == 18 and c_item[4][1].find(\"ImageView\") != -1 and c_item[4][1].find(\"ImageButton\") != -1:\n",
        "            list_view.append(getPixels(c_item, 1))\n",
        "    return list_view\n",
        "\n",
        "\n",
        "# check index color\n",
        "def IndexColor(img, i, j, old_color):\n",
        "    for k, color in enumerate(old_color):\n",
        "        data = img.getpixel((i, j))\n",
        "        if (data[0] == color[0] and data[1] == color[1] and data[2] == color[2]):\n",
        "            return k\n",
        "    return None\n",
        "\n",
        "\n",
        "# check imageview inside list\n",
        "def checkImageView(view_list, i, j):\n",
        "    for n, view in enumerate(view_list):\n",
        "        if (i >= view[0] and i <= view[2] and j >= view[1] and j <= view[3]) == True:\n",
        "            return True\n",
        "    return False\n",
        "\n",
        "\n",
        "# creates the new interfaces based on the generated colors\n",
        "def buildImage(img_path, snap_path, name_snap, old_color, new_color, h, t):\n",
        "    img = Image.open(img_path)\n",
        "    width = img.size[0]\n",
        "    height = img.size[1]\n",
        "    view_list = getView(snap_path)\n",
        "    for i in range(0, width):  # process all pixels\n",
        "        for j in range(0, height):\n",
        "            if len(view_list) > 0:\n",
        "                c_images = checkImageView(view_list, i, j)\n",
        "                if not c_images:\n",
        "                    k = IndexColor(img, i, j, old_color)\n",
        "                    if k is not None:\n",
        "                        img.putpixel((i, j), (new_color[k][0], new_color[k][1], new_color[k][2]))\n",
        "            else:\n",
        "                k = IndexColor(img, i, j, old_color)\n",
        "                if k is not None:\n",
        "                    img.putpixel((i, j), (new_color[k][0], new_color[k][1], new_color[k][2]))\n",
        "    tipo=\"\"\n",
        "    if t==0:\n",
        "      tipo=\"min_cons\"\n",
        "    elif t==1:\n",
        "      tipo=\"median_cons\"\n",
        "    elif t==2:\n",
        "      tipo=\"max_contr\"\n",
        "    else:\n",
        "      tipo=\"min_orig\"\n",
        "    # creation new interfaces\n",
        "    new_interface = \"/content/gdrive/Shareddrives/Tesi di Laurea Magistrale/Risultati/\" + name_snap + \"_NSGA2/\" + name_snap + \"_\" + tipo + \"_\" + str(h) + \"_new_NSGA2.png\"\n",
        "    img.save(new_interface)"
      ]
    },
    {
      "cell_type": "markdown",
      "metadata": {
        "id": "r0sWyRCXaf1v"
      },
      "source": [
        "# **MAIN**"
      ]
    },
    {
      "cell_type": "code",
      "execution_count": null,
      "metadata": {
        "id": "0HVhtjq20_vN"
      },
      "outputs": [],
      "source": [
        "dir_path=\"Snapshot\"\n",
        "momentan=0\n",
        "for dir in getdir(dir_path):\n",
        "    print(dir)\n",
        "  #if momentan>8:\n",
        "    new_interfaces_index = getNewColors(\"Risultati/Data-\"+dir+\"-NSGA2.csv\")\n",
        "    new_interface_path = \"Risultati/\" + dir + \"_NSGA2\"\n",
        "    # if dir doesn't exist will create a new dir\n",
        "    Path(new_interface_path).mkdir(parents=True, exist_ok=True)\n",
        "    bocc_path = \"Dati/\" + dir + \"_BOCP.pickle\"\n",
        "    with open(bocc_path, 'rb') as handle:\n",
        "      BOCP = pickle.load(handle)\n",
        "    old_colors=list(BOCP.keys())\n",
        "    # get snapshot\n",
        "    list_snapshot = getSnapshot(dir_path +\"/\"+ dir)\n",
        "    list_images= getScreenshot(dir_path +\"/\"+ dir)\n",
        "    for t, new_colors in enumerate(new_interfaces_index):\n",
        "      for h, image in enumerate(list_images):\n",
        "        print(t)\n",
        "        buildImage(image, list_snapshot[h], dir, old_colors, new_colors, h, t)\n",
        "  #momentan+=1\n"
      ]
    },
    {
      "cell_type": "markdown",
      "metadata": {
        "id": "a7tQiNCotjiX"
      },
      "source": [
        "# **Calculated Consumption**"
      ]
    },
    {
      "cell_type": "code",
      "execution_count": null,
      "metadata": {
        "id": "c2z1nUVCtg0j"
      },
      "outputs": [],
      "source": [
        "def PowerPixel(color):\n",
        "    return (color[0] * 76.23 + 0.23) + (color[1] * 89.97 + 2.34) + (color[2] * 148.40 + 7.30)\n",
        "def TotalPower(img_path):\n",
        "    img = Image.open(img_path)\n",
        "    width = img.size[0]\n",
        "    height = img.size[1]\n",
        "    totalPower=0\n",
        "    for i in range(0, width):  # process all pixels\n",
        "        for j in range(0, height):\n",
        "          color = img.getpixel((i, j))\n",
        "          totalPower+=PowerPixel(color)\n",
        "    return totalPower\n",
        "\n",
        "# function to take all dir\n",
        "def getfolder(path):\n",
        "  data = []\n",
        "  for filename in sorted(os.listdir(path)):\n",
        "        if filename.endswith(\"_NSGA2\"):\n",
        "          data.append(filename)\n",
        "  return data"
      ]
    },
    {
      "cell_type": "code",
      "execution_count": null,
      "metadata": {
        "id": "GbIjwbjcthia"
      },
      "outputs": [],
      "source": [
        "dir_path=\"Risultati\"\n",
        "header_app = ['app_name', 'Max_Contrast', 'Median_Consum','Min_Consum','Min_Original','Original_Consumption']\n",
        "original_dir=getdir(\"Snapshot\")\n",
        "with open('Risultati/test-consumption-NSGA2.csv','w') as f2:\n",
        "      writer = csv.writer(f2)\n",
        "      # write the header\n",
        "      writer.writerow(header_app)\n",
        "      for h,dir in enumerate(getfolder(dir_path)):\n",
        "        print(dir)\n",
        "        # write the data\n",
        "        list_images=getScreenshot(dir_path +\"/\"+ dir)\n",
        "        i=0\n",
        "        totConsum=0\n",
        "        data=[]\n",
        "        data.append(dir)\n",
        "        for images in list_images:\n",
        "          if i==2:\n",
        "            totConsum+=TotalPower(images)\n",
        "            data.append(totConsum)\n",
        "            totConsum=0\n",
        "            i=0\n",
        "          else:\n",
        "            totConsum+=TotalPower(images)\n",
        "            i+=1\n",
        "        list_images=getScreenshot(\"Snapshot/\"+original_dir[h])\n",
        "        print(totConsum) \n",
        "        for images in list_images:\n",
        "          print(images)\n",
        "          totConsum+=TotalPower(images)\n",
        "        data.append(totConsum)\n",
        "        writer.writerow(data)"
      ]
    }
  ],
  "metadata": {
    "colab": {
      "provenance": []
    },
    "kernelspec": {
      "display_name": "Python 3",
      "name": "python3"
    },
    "language_info": {
      "name": "python"
    }
  },
  "nbformat": 4,
  "nbformat_minor": 0
}
