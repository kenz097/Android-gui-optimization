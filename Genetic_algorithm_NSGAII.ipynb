{
  "cells": [
    {
      "cell_type": "code",
      "execution_count": null,
      "metadata": {
        "colab": {
          "base_uri": "https://localhost:8080/"
        },
        "id": "W18y5mg6-h6-",
        "outputId": "672c67ad-d01e-422a-ca3e-801f4cc939c7"
      },
      "outputs": [
        {
          "output_type": "stream",
          "name": "stdout",
          "text": [
            "Mounted at /content/gdrive\n"
          ]
        }
      ],
      "source": [
        "from google.colab import drive\n",
        "drive.mount('/content/gdrive')"
      ]
    },
    {
      "cell_type": "code",
      "execution_count": null,
      "metadata": {
        "colab": {
          "base_uri": "https://localhost:8080/"
        },
        "id": "tnQiiszkpa_b",
        "outputId": "c4031796-9862-4bba-f203-096dabd45a14"
      },
      "outputs": [
        {
          "output_type": "stream",
          "name": "stdout",
          "text": [
            "Looking in indexes: https://pypi.org/simple, https://us-python.pkg.dev/colab-wheels/public/simple/\n",
            "Collecting pymoo\n",
            "  Downloading pymoo-0.6.0-cp37-cp37m-manylinux_2_24_x86_64.whl (1.9 MB)\n",
            "\u001b[K     |████████████████████████████████| 1.9 MB 5.0 MB/s \n",
            "\u001b[?25hRequirement already satisfied: matplotlib>=3 in /usr/local/lib/python3.7/dist-packages (from pymoo) (3.2.2)\n",
            "Requirement already satisfied: scipy>=1.1 in /usr/local/lib/python3.7/dist-packages (from pymoo) (1.7.3)\n",
            "Requirement already satisfied: numpy>=1.15 in /usr/local/lib/python3.7/dist-packages (from pymoo) (1.21.6)\n",
            "Requirement already satisfied: dill in /usr/local/lib/python3.7/dist-packages (from pymoo) (0.3.5.1)\n",
            "Requirement already satisfied: autograd>=1.4 in /usr/local/lib/python3.7/dist-packages (from pymoo) (1.4)\n",
            "Collecting alive-progress\n",
            "  Downloading alive_progress-2.4.1-py3-none-any.whl (80 kB)\n",
            "\u001b[K     |████████████████████████████████| 80 kB 9.1 MB/s \n",
            "\u001b[?25hCollecting cma==3.2.2\n",
            "  Downloading cma-3.2.2-py2.py3-none-any.whl (249 kB)\n",
            "\u001b[K     |████████████████████████████████| 249 kB 41.5 MB/s \n",
            "\u001b[?25hCollecting Deprecated\n",
            "  Downloading Deprecated-1.2.13-py2.py3-none-any.whl (9.6 kB)\n",
            "Requirement already satisfied: future>=0.15.2 in /usr/local/lib/python3.7/dist-packages (from autograd>=1.4->pymoo) (0.16.0)\n",
            "Requirement already satisfied: python-dateutil>=2.1 in /usr/local/lib/python3.7/dist-packages (from matplotlib>=3->pymoo) (2.8.2)\n",
            "Requirement already satisfied: kiwisolver>=1.0.1 in /usr/local/lib/python3.7/dist-packages (from matplotlib>=3->pymoo) (1.4.4)\n",
            "Requirement already satisfied: pyparsing!=2.0.4,!=2.1.2,!=2.1.6,>=2.0.1 in /usr/local/lib/python3.7/dist-packages (from matplotlib>=3->pymoo) (3.0.9)\n",
            "Requirement already satisfied: cycler>=0.10 in /usr/local/lib/python3.7/dist-packages (from matplotlib>=3->pymoo) (0.11.0)\n",
            "Requirement already satisfied: typing-extensions in /usr/local/lib/python3.7/dist-packages (from kiwisolver>=1.0.1->matplotlib>=3->pymoo) (4.1.1)\n",
            "Requirement already satisfied: six>=1.5 in /usr/local/lib/python3.7/dist-packages (from python-dateutil>=2.1->matplotlib>=3->pymoo) (1.15.0)\n",
            "Collecting about-time==3.1.1\n",
            "  Downloading about_time-3.1.1-py3-none-any.whl (9.1 kB)\n",
            "Collecting grapheme==0.6.0\n",
            "  Downloading grapheme-0.6.0.tar.gz (207 kB)\n",
            "\u001b[K     |████████████████████████████████| 207 kB 50.4 MB/s \n",
            "\u001b[?25hRequirement already satisfied: wrapt<2,>=1.10 in /usr/local/lib/python3.7/dist-packages (from Deprecated->pymoo) (1.14.1)\n",
            "Building wheels for collected packages: grapheme\n",
            "  Building wheel for grapheme (setup.py) ... \u001b[?25l\u001b[?25hdone\n",
            "  Created wheel for grapheme: filename=grapheme-0.6.0-py3-none-any.whl size=210096 sha256=e52229cd362e4e000e6320a76e8d1d39bd5081a4b26df0903a29f67c73ddb2d4\n",
            "  Stored in directory: /root/.cache/pip/wheels/71/fc/c8/142ef03b79c02b618fe80b9f2d01c25bd55f60b0c58eab3f0e\n",
            "Successfully built grapheme\n",
            "Installing collected packages: grapheme, about-time, Deprecated, cma, alive-progress, pymoo\n",
            "Successfully installed Deprecated-1.2.13 about-time-3.1.1 alive-progress-2.4.1 cma-3.2.2 grapheme-0.6.0 pymoo-0.6.0\n"
          ]
        }
      ],
      "source": [
        "pip install -U pymoo"
      ]
    },
    {
      "cell_type": "code",
      "execution_count": null,
      "metadata": {
        "id": "A5RCklheLVBv"
      },
      "outputs": [],
      "source": [
        "import colorsys\n",
        "import random\n",
        "import pickle\n",
        "import numpy as np\n",
        "import os\n",
        "import xml.etree.ElementTree as ET\n",
        "from datetime import datetime\n",
        "from PIL import Image\n",
        "import csv\n",
        "from pathlib import Path\n",
        "import re\n",
        "\n",
        "from pymoo.core.sampling import Sampling\n",
        "from pymoo.core.problem import ElementwiseProblem\n",
        "from pymoo.operators.selection.tournament import TournamentSelection\n",
        "from pymoo.core.crossover import Crossover\n",
        "from pymoo.core.mutation import Mutation\n",
        "from pymoo.core.duplicate import ElementwiseDuplicateElimination\n",
        "from pymoo.algorithms.moo.nsga2 import NSGA2\n",
        "from pymoo.optimize import minimize\n",
        "from pymoo.termination import get_termination\n",
        "from multiprocessing.pool import ThreadPool\n",
        "from pymoo.core.problem import StarmapParallelization\n",
        "from pymoo.visualization.scatter import Scatter"
      ]
    },
    {
      "cell_type": "markdown",
      "metadata": {
        "id": "111paIlRE_ph"
      },
      "source": [
        "# **Return the palette of colors in rgb**"
      ]
    },
    {
      "cell_type": "code",
      "execution_count": null,
      "metadata": {
        "id": "ihRA_yAADepp"
      },
      "outputs": [],
      "source": [
        "# convert hsv to rgb\n",
        "def getRGBfromHsv(hsl):\n",
        "    # normalized the h,s,v for colorsys\n",
        "    h = hsl[0] / 360\n",
        "    s = hsl[1]\n",
        "    v = hsl[2]\n",
        "    return tuple(round(i * 255) for i in colorsys.hsv_to_rgb(h, s, v))"
      ]
    },
    {
      "cell_type": "code",
      "execution_count": null,
      "metadata": {
        "id": "-lipBeEl_tSq"
      },
      "outputs": [],
      "source": [
        "# random colors from HSB/HSV\n",
        "def getEquidistantHarmony(length):\n",
        "    list_eh = []\n",
        "\n",
        "    # random start_hue but with fixed saturation and brightness\n",
        "    start_h = random.randint(0, 360)\n",
        "    h = start_h\n",
        "    value_add = int(360 / length)\n",
        "    s = random.uniform(0, 1)\n",
        "    l = random.uniform(0.2, 0.9)\n",
        "    # iterate for the length passed in input\n",
        "    for _ in range(0, length):\n",
        "        # same saturation and brightnes, but modulating the tone (hue)\n",
        "        hsl = (h, s, l)\n",
        "        list_eh.append(hsl)\n",
        "        # module for stay between 0 and 360\n",
        "        h = (h + value_add) % 360\n",
        "    return list_eh"
      ]
    },
    {
      "cell_type": "code",
      "execution_count": null,
      "metadata": {
        "id": "ruwZKH63A6rT"
      },
      "outputs": [],
      "source": [
        "def getEHContrast(equidistant_harmony):\n",
        "    list_eh_contrast = []\n",
        "    # iterate for the length passed in input\n",
        "    for i in range(0, len(equidistant_harmony)):\n",
        "        # random saturation and brightnes, but with the same tone of list (hue)\n",
        "        h = equidistant_harmony[i][0]\n",
        "        s = random.uniform(0, 1)\n",
        "        v = random.uniform(0.2, 0.9)\n",
        "        hsv = (h, s, v)\n",
        "        list_eh_contrast.append(getRGBfromHsv(hsv))\n",
        "    return list_eh_contrast"
      ]
    },
    {
      "cell_type": "code",
      "execution_count": null,
      "metadata": {
        "id": "dYEQQ3uHA92R"
      },
      "outputs": [],
      "source": [
        "def getMonocromaticPalette(length):\n",
        "    h = random.randint(0, 360)\n",
        "    list_monochromatic = []\n",
        "    # iterate for the length passed in input\n",
        "    for i in range(0, length):\n",
        "        # random saturation and brightnes, but with the same color (hue)\n",
        "        s = random.uniform(0, 1)\n",
        "        v = random.uniform(0.2, 0.9)\n",
        "        hsv = (h, s, v)\n",
        "        list_monochromatic.append(getRGBfromHsv(hsv))\n",
        "    return list_monochromatic"
      ]
    },
    {
      "cell_type": "code",
      "execution_count": null,
      "metadata": {
        "id": "ffpad1fSBAFe"
      },
      "outputs": [],
      "source": [
        "# return a palette list of 512 colors in rgb\n",
        "def getNewPalette(list_color):\n",
        "    color_palette = []\n",
        "    # (i) m colors from the original BOCP\n",
        "    color_palette.extend(list_color)\n",
        "    # m length\n",
        "    m = len(list_color)\n",
        "    # (ii) white\n",
        "    white = (255, 255, 255)\n",
        "    color_palette.append(white)\n",
        "    # (iii) black\n",
        "    black = (0, 0, 0)\n",
        "    color_palette.append(black)\n",
        "    # formula of paper for calculate numbers of colors\n",
        "    num = (512 - m - 2) / 3\n",
        "    # check if there are decimal values from the module\n",
        "    if num % 1 == 0:\n",
        "        # delete decimal values\n",
        "        num = int(num)\n",
        "        # (iv) a palette in equidistant color harmony with (512-m-2)/3 colors\n",
        "        equidistant_harmony = getEquidistantHarmony(num)\n",
        "    else:\n",
        "        # delete decimal values\n",
        "        num = int(num)\n",
        "        # I add a color otherwise we don't get to 512\n",
        "        equidistant_harmony = getEquidistantHarmony(num)\n",
        "    for color in equidistant_harmony:\n",
        "        color_palette.append(getRGBfromHsv(color))\n",
        "\n",
        "    # (v) a monochromatic palette of (512-m-2)/3 colors with difference in saturation and brightness\n",
        "    monochromatic = getMonocromaticPalette(num + 1)\n",
        "    color_palette.extend(monochromatic)\n",
        "\n",
        "    # (vi) a equidistant harmony palette with random saturation and brightness for each of the colors in the harmony\n",
        "    equidistant_harmony_contrast = getEHContrast(equidistant_harmony)\n",
        "    color_palette.extend(equidistant_harmony_contrast)\n",
        "\n",
        "    return color_palette"
      ]
    },
    {
      "cell_type": "markdown",
      "metadata": {
        "id": "A5GG5CPOYQ35"
      },
      "source": [
        "# **Return the first fitness function values, we need minimize it**"
      ]
    },
    {
      "cell_type": "code",
      "execution_count": null,
      "metadata": {
        "id": "i4ihRmihTnaA"
      },
      "outputs": [],
      "source": [
        "def PowerPixel(color):\n",
        "    return (color[0] * 76.23 + 0.23) + (color[1] * 89.97 + 2.34) + (color[2] * 148.40 + 7.30)\n",
        "\n",
        "# ritorna l'indice dell'array di bocp per usarlo con S\n",
        "def CounterIndex(BOCP, h):\n",
        "    list_keys = list(BOCP.keys())\n",
        "    n_values = [0] * len(list_keys)\n",
        "    for index, key in enumerate(list_keys):\n",
        "        for pixel in BOCP.get(key):\n",
        "            if pixel[0] == h:\n",
        "                n_values[index] += 1\n",
        "    return n_values\n",
        "\n",
        "# estimated power consumptions of all the pixels in all the screens in Joule\n",
        "def ECF(bocp, solution, interface):\n",
        "    total_consumption = 0\n",
        "    lista_by_colori = []\n",
        "    # iterate all colors\n",
        "    for h in range(len(interface)):\n",
        "        n_values = CounterIndex(bocp, h)\n",
        "        for i, s in enumerate(solution):\n",
        "            total_consumption += (PowerPixel(s) * n_values[i]) * interface[h]\n",
        "    return total_consumption"
      ]
    },
    {
      "cell_type": "markdown",
      "metadata": {
        "id": "HevsTU8QJcut"
      },
      "source": [
        "# **Return the second fitness function values, we need maximize it**"
      ]
    },
    {
      "cell_type": "code",
      "execution_count": null,
      "metadata": {
        "id": "p7nxddQSYP-I"
      },
      "outputs": [],
      "source": [
        "# function to take all GUI's\n",
        "def getSnapshot(path):\n",
        "    data = []\n",
        "    for filename in sorted(os.listdir(path)):\n",
        "        if filename.endswith(\"uix\"):\n",
        "            tree = ET.parse(path + \"/\" + filename)\n",
        "            # getting the parent tag of the xml document\n",
        "            root = tree.getroot()\n",
        "            data.append(root)\n",
        "    return data\n",
        "\n",
        "\n",
        "# Con function calculate the contrast between two colors a and b (in terms of brightness)\n",
        "def Con(color_a, color_b):\n",
        "    return abs(((299 * color_a[0] + 587 * color_a[1] + 114 * color_a[2]) / 1000) - (\n",
        "            (299 * color_b[0] + 587 * color_b[1] + 114 * color_b[2]) / 1000))\n",
        "\n",
        "# check if the elements are equal\n",
        "def Comp(root, comp):\n",
        "    for elem in root.iter():\n",
        "        if elem.items() == comp.items():\n",
        "            return elem\n",
        "\n",
        "# ritorna l'insieme di tutte le componenti adiacenti, padre diretto e figli diretti\n",
        "def getAdiacentComponents(root, comp):\n",
        "    parent_map = {c: p for p in root.iter() for c in p}\n",
        "    gen = parent_map.get(Comp(root, comp))\n",
        "    if gen == None:\n",
        "        return None\n",
        "    adiac = []\n",
        "    for elem in root.iter():\n",
        "        if elem == gen:\n",
        "            adiac.append(elem)\n",
        "            adiac.extend(list(comp))\n",
        "            return adiac\n",
        "\n",
        "def BCIndexWithH(BOCC, c, h):\n",
        "    list_keys = list(BOCC.keys())\n",
        "    for index, key in enumerate(list_keys):\n",
        "        for comp in BOCC.get(key):\n",
        "            if comp[0] == h and comp[1].items() == c.items():\n",
        "                return index\n",
        "    return None\n",
        "\n",
        "def TCon(solution, bocc, root, h, CnTh):\n",
        "    total_con = np.array([0, 0])\n",
        "    flag = False\n",
        "    # iterate all components in snapshot\n",
        "    for elem in root.iter():\n",
        "        if (len(elem.items()) == 17 and elem.items()[3][1].find(\"ImageView\") == -1 and elem.items()[3][1].find(\"ImageButton\") == -1) or (\n",
        "                len(elem.items()) == 18 and elem.items()[4][1].find(\"ImageView\") == -1 and elem.items()[4][1].find(\"ImageButton\") == -1):\n",
        "            flag = True\n",
        "            list_comp = getAdiacentComponents(root, elem)\n",
        "        if flag:\n",
        "            flag = False\n",
        "            if list_comp is not None:\n",
        "                first_comp = BCIndexWithH(bocc, elem, h)\n",
        "                if first_comp is not None:\n",
        "                    solution_1 = solution[first_comp]\n",
        "                    for adiac in list_comp:\n",
        "                        if (len(adiac.items()) == 17 and adiac.items()[3][1].find(\"ImageView\") == -1 and adiac.items()[3][1].find(\"ImageButton\") == -1) or (\n",
        "                                len(adiac.items()) == 18 and adiac.items()[4][1].find(\"ImageView\") == -1 and adiac.items()[4][1].find(\"ImageButton\") == -1):\n",
        "                            second_comp = BCIndexWithH(bocc, adiac, h)\n",
        "                            if second_comp is not None and (adiac.items()!=elem.items()):\n",
        "                                solution_2 = solution[second_comp]\n",
        "                                contrasto = Con(solution_1, solution_2)\n",
        "                                total_con[0] += contrasto\n",
        "                                if contrasto < CnTh and first_comp!=second_comp:\n",
        "                                    total_con[1] += 1\n",
        "                                    \n",
        "    return total_con\n",
        "\n",
        "# calculate second fitness function\n",
        "def CF(Solution, bocc, snapshot, CnTh):\n",
        "    # consumo\n",
        "    consumption = [0, 0]\n",
        "    # importiamo il file\n",
        "    path = \"Snapshot/\" + snapshot\n",
        "    # lista contenente tutte le root e passarli uno alla volta col ciclo sotto\n",
        "    screen = getSnapshot(path)\n",
        "    for h, interface in enumerate(screen):\n",
        "        t_con = TCon(Solution, bocc, interface, h, CnTh)\n",
        "        consumption[0] += t_con[0]\n",
        "        consumption[1] += t_con[1]\n",
        "    return consumption"
      ]
    },
    {
      "cell_type": "markdown",
      "metadata": {
        "id": "9kHZ8MMW8U1Y"
      },
      "source": [
        "# **Return the third fitness function values, we need minimize it**"
      ]
    },
    {
      "cell_type": "code",
      "execution_count": null,
      "metadata": {
        "id": "HbBMgiXp89z6"
      },
      "outputs": [],
      "source": [
        "# Euclidean Distance of rgb values\n",
        "def EuclideanDistance(color1, color2):\n",
        "    a = np.array((color1[0], color1[1], color1[2]))\n",
        "    b = np.array((color2[0], color2[1], color2[2]))\n",
        "\n",
        "    dist = np.sqrt(np.sum(np.square(a - b)))\n",
        "    return dist\n",
        "\n",
        "# Or function, given a color returns the closest color in the original palette\n",
        "def OrStar(color, palette):\n",
        "    closest = palette[0]\n",
        "    min_dist = EuclideanDistance(color, closest)\n",
        "    for p_color in palette:\n",
        "        if min_dist > EuclideanDistance(color, p_color):\n",
        "            closest = p_color\n",
        "            min_dist = EuclideanDistance(color, p_color)\n",
        "    return closest\n",
        "\n",
        "# penalty factor\n",
        "def alpha(color, bocp):\n",
        "    if color != OrStar(color, bocp):\n",
        "        return 1\n",
        "    else:\n",
        "        return 2\n",
        "\n",
        "def DF(Solution, initial_colors):\n",
        "    tot_value = 0\n",
        "    for sol in Solution:\n",
        "        the_alpha = alpha(sol, initial_colors)\n",
        "        the_euclid = EuclideanDistance(sol, OrStar(sol, initial_colors))\n",
        "        tot_value += the_alpha * the_euclid\n",
        "    return tot_value"
      ]
    },
    {
      "cell_type": "markdown",
      "metadata": {
        "id": "WKUxHjDn8frv"
      },
      "source": [
        "# **Problem**"
      ]
    },
    {
      "cell_type": "code",
      "execution_count": null,
      "metadata": {
        "id": "XHVDlGhP_mWv"
      },
      "outputs": [],
      "source": [
        "class MyProblem(ElementwiseProblem):\n",
        "    def __init__(self, bocp, bocc, name_snap, interface, **kwargs):\n",
        "        super().__init__(n_var=1, n_obj=3,n_ieq_constr=1, **kwargs)\n",
        "        # bocp and bocc hashmap\n",
        "        self.bocp = bocp\n",
        "        self.bocc = bocc\n",
        "        # path of snapshot of apps\n",
        "        self.name_snap = name_snap\n",
        "        # list initial colors and his length\n",
        "        self.initial_colors = list(bocp.keys())\n",
        "        # palette\n",
        "        self.palette = getNewPalette(self.initial_colors)\n",
        "        self.interface = interface\n",
        "        self.n_colors = len(self.initial_colors)\n",
        "        self.CnTh = 4\n",
        "\n",
        "    def _evaluate(self, x, out, *args, **kwargs):\n",
        "        # fitness function and constraint value\n",
        "        f1 = ECF(self.bocp, x[0], self.interface)\n",
        "        f2_g1 = CF(x[0], self.bocc, self.name_snap, self.CnTh)\n",
        "        f2, g1 = f2_g1[0], f2_g1[1]\n",
        "        f3 = DF(x[0], self.initial_colors)\n",
        "        out[\"F\"] = np.array([f1, -f2, f3], dtype=float)\n",
        "        out[\"G\"] = [g1]\n"
      ]
    },
    {
      "cell_type": "markdown",
      "metadata": {
        "id": "4x4wCFZ3xX67"
      },
      "source": [
        "# **Sampling**"
      ]
    },
    {
      "cell_type": "code",
      "execution_count": null,
      "metadata": {
        "id": "4yXMCBk1xaHw"
      },
      "outputs": [],
      "source": [
        "class MySampling(Sampling):\n",
        "    def _do(self, problem, n_samples, **kwargs):\n",
        "        n_colors = problem.n_colors\n",
        "        palette = problem.palette\n",
        "        X = np.full((n_samples, 1), None, dtype=object)\n",
        "        for i in range(n_samples):\n",
        "            X[i, 0] = tuple([random.choice(palette) for _ in range(n_colors)])\n",
        "        return X"
      ]
    },
    {
      "cell_type": "markdown",
      "metadata": {
        "id": "s3HTfhBTesrX"
      },
      "source": [
        "# **Selection**"
      ]
    },
    {
      "cell_type": "code",
      "execution_count": null,
      "metadata": {
        "id": "4wAec_OGeqZy"
      },
      "outputs": [],
      "source": [
        "# choose the best individual from pool/tournament with probability p\n",
        "# choose the second best individual with probability p*(1-p)\n",
        "# the third with p*((1-p)^2)\n",
        "# and so on\n",
        "# simple binary tournament for a single-objective algorithm\n",
        "def binary_tournament(pop, P, _, **kwargs):\n",
        "    # The P input defines the tournaments and competitors\n",
        "    n_tournaments, n_competitors = P.shape\n",
        "\n",
        "    if n_competitors != 2:\n",
        "        raise Exception(\"Only pressure=2 allowed for binary tournament!\")\n",
        "    # the result this function returns\n",
        "    S = np.full(n_tournaments, None, dtype=object)\n",
        "    # now do all the tournaments\n",
        "    for i in range(n_tournaments):\n",
        "        a, b = P[i]\n",
        "        # if have same cv\n",
        "        if pop[a].CV == 0 and pop[b].CV == 0:\n",
        "            # take the first\n",
        "            if pop[a].F < pop[b].F:\n",
        "                S[i] = a\n",
        "            # otherwise take the other individual\n",
        "            else:\n",
        "                # take the second\n",
        "                S[i] = b\n",
        "        elif pop[a].CV == 0:\n",
        "            S[i] = a\n",
        "        elif pop[b].CV == 0:\n",
        "            S[i] = b\n",
        "        elif pop[a].CV < pop[b].CV:\n",
        "            S[i] = a\n",
        "        elif pop[a].CV > pop[b].CV:\n",
        "            S[i] = b\n",
        "        else:\n",
        "            if pop[a].F < pop[b].F:\n",
        "                S[i] = a\n",
        "            # otherwise take the other individual\n",
        "            else:\n",
        "                S[i] = b\n",
        "    return S"
      ]
    },
    {
      "cell_type": "markdown",
      "metadata": {
        "id": "Cl4ncDAP1OsS"
      },
      "source": [
        "# **Crossover**"
      ]
    },
    {
      "cell_type": "code",
      "execution_count": null,
      "metadata": {
        "id": "dd9dCKg3fzvl"
      },
      "outputs": [],
      "source": [
        "class MyCrossover(Crossover):\n",
        "    def __init__(self, p_cross):\n",
        "        # define the crossover: number of parents and number of offsprings\n",
        "        super().__init__(2, 2)\n",
        "        self.p_cross = p_cross\n",
        "\n",
        "    def _do(self, problem, X, **kwargs):\n",
        "\n",
        "        # The input of has the following shape (n_parents, n_matings, n_var)\n",
        "        _, n_matings, n_var = X.shape\n",
        "\n",
        "        # The output owith the shape (n_offsprings, n_matings, n_var)\n",
        "        # Because there the number of parents and offsprings are equal it keeps the shape of X\n",
        "        Y = np.full_like(X, None, dtype=object)\n",
        "\n",
        "        # for each mating provided\n",
        "        for k in range(n_matings):\n",
        "\n",
        "            # get the first and the second parent\n",
        "            a, b = X[0, k, 0], X[1, k, 0]\n",
        "\n",
        "            # prepare the offsprings\n",
        "            value = (1, 2, 3)\n",
        "            off_a = list((value,) * problem.n_colors)\n",
        "            off_b = list((value,) * problem.n_colors)\n",
        "\n",
        "            if np.random.random() < self.p_cross:\n",
        "                position = random.randint(0, problem.n_colors)\n",
        "                for i in range(problem.n_colors):\n",
        "                    if i < position:\n",
        "                        off_a[i] = a[i]\n",
        "                        off_b[i] = b[i]\n",
        "                    else:\n",
        "                        off_a[i] = b[i]\n",
        "                        off_b[i] = a[i]\n",
        "            else:\n",
        "                # prepare the offsprings\n",
        "                off_a = a\n",
        "                off_b = b\n",
        "\n",
        "            # join the character list and set the output\n",
        "            Y[0, k, 0], Y[1, k, 0] = tuple(off_a), tuple(off_b)\n",
        "\n",
        "        return Y"
      ]
    },
    {
      "cell_type": "markdown",
      "metadata": {
        "id": "I5-Cmfq0eqn9"
      },
      "source": [
        "# **Mutation**"
      ]
    },
    {
      "cell_type": "code",
      "execution_count": null,
      "metadata": {
        "id": "oWLd6lSYevPy"
      },
      "outputs": [],
      "source": [
        "class MyMutation(Mutation):\n",
        "    def __init__(self):\n",
        "        super().__init__()\n",
        "\n",
        "    def _do(self, problem, X, **kwargs):\n",
        "        p_mut = 1 / len(X)\n",
        "        # for each individual\n",
        "        for i in range(len(X)):\n",
        "            mut = list(X[i, 0])\n",
        "            for j in range(len(mut)):\n",
        "                if np.random.random() < p_mut:\n",
        "                    mut[j] = random.choice(problem.palette)\n",
        "            X[i, 0] = mut\n",
        "\n",
        "        return X"
      ]
    },
    {
      "cell_type": "markdown",
      "metadata": {
        "id": "E3l1xMDK53AX"
      },
      "source": [
        "# **Duplicates**"
      ]
    },
    {
      "cell_type": "code",
      "execution_count": null,
      "metadata": {
        "id": "Gyq7axQU55By"
      },
      "outputs": [],
      "source": [
        "class MyDuplicateElimination(ElementwiseDuplicateElimination):\n",
        "    def is_equal(self, a, b):\n",
        "        return a.X[0] == b.X[0]"
      ]
    },
    {
      "cell_type": "markdown",
      "metadata": {
        "id": "xeHHl_596j7u"
      },
      "source": [
        "# **Main**"
      ]
    },
    {
      "cell_type": "code",
      "execution_count": null,
      "metadata": {
        "id": "NKOABRo3sBAW"
      },
      "outputs": [],
      "source": [
        "# function to take all dir\n",
        "def getdir(path):\n",
        "    return sorted(os.listdir(path))\n",
        "\n",
        "# function to take all GUI's\n",
        "def getScreenshot(path):\n",
        "    data = []\n",
        "    for filename in sorted(os.listdir(path)):\n",
        "        if filename.endswith(\"png\"):\n",
        "            data.append(path + \"/\" + filename)\n",
        "    return data"
      ]
    },
    {
      "cell_type": "code",
      "execution_count": null,
      "metadata": {
        "id": "vZ3rOtoPota2"
      },
      "outputs": [],
      "source": [
        "dir_path = \"Snapshot\"\n",
        "\n",
        "header = ['id', 'app_name', 'algorithm', 'n_thread', 'n_interface', 'pop_size', 'time_execution', 'n_evals',\n",
        "          'hist_cv', 'hist_cv_avg']\n",
        "\n",
        "# create csv for collect data\n",
        "with open('Risultati/Data-NSGAII.csv', 'w') as f:\n",
        "    writer = csv.writer(f)\n",
        "\n",
        "    # write the header\n",
        "    writer.writerow(header)\n",
        "    f.close()\n",
        "    # iterate all dir\n",
        "for index, dir in enumerate(getdir(dir_path)):\n",
        "  with open('Risultati/Data-NSGAII.csv', 'a') as f1:\n",
        "    writer = csv.writer(f1)\n",
        "    # create data\n",
        "    data = []\n",
        "    data.append(index)\n",
        "    # datetime object containing current date and time\n",
        "    now = datetime.now()\n",
        "    # collect app name\n",
        "    data.append(dir)\n",
        "    data.append(\"NSGAII\")\n",
        "    # load pickle data\n",
        "    bocp_path = \"Dati/\" + dir + \"_BOCC.pickle\"\n",
        "    with open(bocp_path, 'rb') as handle:\n",
        "      BOCC = pickle.load(handle)\n",
        "    bocc_path = \"Dati/\" + dir + \"_BOCP.pickle\"\n",
        "    with open(bocc_path, 'rb') as handle:\n",
        "      BOCP = pickle.load(handle)\n",
        "    hash_bocc = {}\n",
        "    hash_comp = {}\n",
        "    # generate new interface\n",
        "    old_colors = list(BOCP.keys())\n",
        "\n",
        "    #delete duplicates\n",
        "    for key in old_colors:\n",
        "      for component in BOCC.get(key):\n",
        "        comp = (component[0], component[1])\n",
        "        if hash_comp.get(comp) is None:\n",
        "          hash_comp.setdefault(comp, [])\n",
        "          components = (component[0], component[1])\n",
        "          hash_bocc.setdefault(key, []).append(components)\n",
        "\n",
        "    # initialize the thread pool and create the runner\n",
        "    n_thread = 10\n",
        "    data.append(n_thread)\n",
        "    pool = ThreadPool(n_thread)\n",
        "    runner = StarmapParallelization(pool.starmap)\n",
        "    # collect number of interface\n",
        "    path = \"Snapshot/\" + dir\n",
        "    list_images = getScreenshot(path)\n",
        "    interface = [1] * len(list_images)\n",
        "    data.append(len(interface))\n",
        "\n",
        "    # declare problem\n",
        "    problem = MyProblem(BOCP, hash_bocc, dir, interface, elementwise_runner=runner)\n",
        "    pf = problem.pareto_front()\n",
        "\n",
        "    # define tournament\n",
        "    selection = TournamentSelection(pressure=2, func_comp=binary_tournament)\n",
        "    p_cross = 0.9\n",
        "    # collect n_eval\n",
        "    n_eval = 5000\n",
        "    termination = get_termination(\"n_eval\", n_eval)\n",
        "    # collect pop size\n",
        "    pop_size = 50\n",
        "    data.append(pop_size)\n",
        "    # define algorithm and start\n",
        "    algorithm = NSGA2(pop_size=pop_size,\n",
        "                      sampling=MySampling(),\n",
        "                      crossover=MyCrossover(p_cross),\n",
        "                      mutation=MyMutation(),\n",
        "                      eliminate_duplicates=MyDuplicateElimination())\n",
        "\n",
        "    res = minimize(problem,\n",
        "                  algorithm,\n",
        "                  termination,\n",
        "                  pf=pf,\n",
        "                  seed=1,\n",
        "                  save_history=True,\n",
        "                  verbose=True)\n",
        "    # collect time execution\n",
        "    end = datetime.now()\n",
        "    data.append(end - now)\n",
        "    # close thread\n",
        "    pool.close()\n",
        "    # collect history data of execution\n",
        "    hist = res.history\n",
        "    n_evals = []  # corresponding number of function evaluations\\\n",
        "    hist_F = []  # the objective space values in each generation\n",
        "    hist_cv = []  # constraint violation in each generation\n",
        "    hist_cv_avg = []  # average constraint violation in the whole population\n",
        "\n",
        "    for algo in hist:\n",
        "      # store the number of function evaluations\n",
        "      n_evals.append(algo.evaluator.n_eval)\n",
        "      # retrieve the optimum from the algorithm\n",
        "      opt = algo.opt\n",
        "      # store the least contraint violation and the average in each population\n",
        "      hist_cv.append(opt.get(\"CV\").min())\n",
        "      hist_cv_avg.append(algo.pop.get(\"CV\").mean())\n",
        "      # filter out only the feasible and append and objective space values\n",
        "      feas = np.where(opt.get(\"feasible\"))[0]\n",
        "      hist_F.append(opt.get(\"F\")[feas])\n",
        "\n",
        "    data.append(n_evals)\n",
        "    data.append(hist_cv)\n",
        "    data.append(hist_cv_avg)\n",
        "    writer.writerow(data)\n",
        "    f1.close()\n",
        "    # write the data for individual app\n",
        "    header_app = ['id', 'app_name', 'solution', 'fitness function']\n",
        "    with open('Risultati/Data-' + dir + '-NSGAII.csv', 'w') as f2:\n",
        "      writer = csv.writer(f2)\n",
        "      # write the header\n",
        "      writer.writerow(header_app)\n",
        "      for id, solution in enumerate(res.X):\n",
        "        data_app = []\n",
        "        data_app.append(id)\n",
        "        data_app.append(dir)\n",
        "        data_app.append(solution[0])\n",
        "        ff = (res.F[id][0], res.F[id][1], res.F[id][2])\n",
        "        data_app.append(ff)\n",
        "        writer.writerow(data_app)\n",
        "        f2.close()"
      ]
    }
  ],
  "metadata": {
    "colab": {
      "collapsed_sections": [],
      "provenance": []
    },
    "kernelspec": {
      "display_name": "Python 3",
      "name": "python3"
    },
    "language_info": {
      "name": "python"
    }
  },
  "nbformat": 4,
  "nbformat_minor": 0
}